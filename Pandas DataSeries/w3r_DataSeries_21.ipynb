{
 "cells": [
  {
   "cell_type": "code",
   "execution_count": 2,
   "id": "98fa28b2-ffe4-41a9-a383-4532a83ec2ea",
   "metadata": {},
   "outputs": [],
   "source": [
    "#import pandas module\n",
    "import pandas as pd\n",
    "import numpy as np"
   ]
  },
  {
   "cell_type": "code",
   "execution_count": 6,
   "id": "fa5d11f9-8190-40ef-a3f0-07f5834f1bb5",
   "metadata": {},
   "outputs": [],
   "source": [
    "data = pd.Series(np.random.randint(1, 11, [50]))"
   ]
  },
  {
   "cell_type": "code",
   "execution_count": 7,
   "id": "48247eb2-15d6-4063-a511-909667b4c124",
   "metadata": {},
   "outputs": [
    {
     "data": {
      "text/plain": [
       "0     10\n",
       "1      3\n",
       "2      7\n",
       "3     10\n",
       "4      3\n",
       "5      1\n",
       "6      3\n",
       "7      5\n",
       "8      6\n",
       "9      3\n",
       "10     6\n",
       "11     1\n",
       "12     9\n",
       "13     9\n",
       "14    10\n",
       "15     1\n",
       "16     1\n",
       "17     2\n",
       "18     9\n",
       "19     5\n",
       "20     6\n",
       "21     9\n",
       "22     6\n",
       "23     7\n",
       "24     8\n",
       "25     7\n",
       "26     2\n",
       "27    10\n",
       "28     1\n",
       "29     7\n",
       "30     9\n",
       "31    10\n",
       "32     5\n",
       "33     7\n",
       "34     2\n",
       "35    10\n",
       "36     6\n",
       "37     9\n",
       "38     3\n",
       "39     5\n",
       "40     2\n",
       "41     4\n",
       "42     1\n",
       "43     6\n",
       "44     2\n",
       "45    10\n",
       "46    10\n",
       "47     8\n",
       "48     5\n",
       "49     5\n",
       "dtype: int32"
      ]
     },
     "execution_count": 7,
     "metadata": {},
     "output_type": "execute_result"
    }
   ],
   "source": [
    "data"
   ]
  },
  {
   "cell_type": "code",
   "execution_count": 8,
   "id": "489dcd09-b13b-499f-b2cb-6ad28cf46717",
   "metadata": {},
   "outputs": [],
   "source": [
    "data5 = data[data % 5 == 0]"
   ]
  },
  {
   "cell_type": "code",
   "execution_count": 14,
   "id": "aee0fd21-a9c7-4500-840a-7ee999d1871b",
   "metadata": {},
   "outputs": [
    {
     "data": {
      "text/plain": [
       "Index([0, 3, 7, 14, 19, 27, 31, 32, 35, 39, 45, 46, 48, 49], dtype='int64')"
      ]
     },
     "execution_count": 14,
     "metadata": {},
     "output_type": "execute_result"
    }
   ],
   "source": [
    "data5.index"
   ]
  },
  {
   "cell_type": "code",
   "execution_count": null,
   "id": "2288e592-7a96-4847-b6e2-e6a3ab7b3629",
   "metadata": {},
   "outputs": [],
   "source": []
  }
 ],
 "metadata": {
  "kernelspec": {
   "display_name": "Python 3 (ipykernel)",
   "language": "python",
   "name": "python3"
  },
  "language_info": {
   "codemirror_mode": {
    "name": "ipython",
    "version": 3
   },
   "file_extension": ".py",
   "mimetype": "text/x-python",
   "name": "python",
   "nbconvert_exporter": "python",
   "pygments_lexer": "ipython3",
   "version": "3.11.4"
  }
 },
 "nbformat": 4,
 "nbformat_minor": 5
}
