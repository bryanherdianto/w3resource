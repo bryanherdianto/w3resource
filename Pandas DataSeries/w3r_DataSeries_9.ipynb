{
 "cells": [
  {
   "cell_type": "code",
   "execution_count": 1,
   "id": "77629246-d8b1-408e-97d9-390d46ee8a24",
   "metadata": {},
   "outputs": [],
   "source": [
    "import pandas as pd\n",
    "import numpy as np"
   ]
  },
  {
   "cell_type": "code",
   "execution_count": 2,
   "id": "6d055bff-75b9-4d0d-9bd8-9a37a79884a1",
   "metadata": {},
   "outputs": [],
   "source": [
    "ds = pd.Series([0, 1, 2, 3, 4, 5, 99])"
   ]
  },
  {
   "cell_type": "code",
   "execution_count": 4,
   "id": "d7be0c2c-c157-4b16-a6c0-c922a4a413b6",
   "metadata": {},
   "outputs": [],
   "source": [
    "val_list = ds.values"
   ]
  },
  {
   "cell_type": "code",
   "execution_count": 5,
   "id": "592a5ded-0eaf-4b48-9c8a-436a2b0cdb6c",
   "metadata": {},
   "outputs": [
    {
     "name": "stdout",
     "output_type": "stream",
     "text": [
      "[ 0  1  2  3  4  5 99]\n"
     ]
    }
   ],
   "source": [
    "print(val_list)"
   ]
  },
  {
   "cell_type": "code",
   "execution_count": null,
   "id": "4c6e9de5-46ff-49ca-a7df-e36cc2076a52",
   "metadata": {},
   "outputs": [],
   "source": []
  }
 ],
 "metadata": {
  "kernelspec": {
   "display_name": "Python 3 (ipykernel)",
   "language": "python",
   "name": "python3"
  },
  "language_info": {
   "codemirror_mode": {
    "name": "ipython",
    "version": 3
   },
   "file_extension": ".py",
   "mimetype": "text/x-python",
   "name": "python",
   "nbconvert_exporter": "python",
   "pygments_lexer": "ipython3",
   "version": "3.11.4"
  }
 },
 "nbformat": 4,
 "nbformat_minor": 5
}
