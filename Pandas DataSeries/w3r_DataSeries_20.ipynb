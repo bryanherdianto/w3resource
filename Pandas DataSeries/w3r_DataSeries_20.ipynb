{
 "cells": [
  {
   "cell_type": "code",
   "execution_count": 1,
   "id": "d4c6e2fd-ab27-4a9f-8a00-dac276ed5efb",
   "metadata": {},
   "outputs": [],
   "source": [
    "# import pandas module\n",
    "import pandas as pd\n",
    "import numpy as np\n",
    "\n",
    "# make random series\n",
    "data = pd.Series(np.random.randint(low = 1, high = 4, size=30))"
   ]
  },
  {
   "cell_type": "code",
   "execution_count": 2,
   "id": "d2b7e253-1dd7-4a62-9dd0-80ecbf2c16c9",
   "metadata": {},
   "outputs": [
    {
     "data": {
      "text/plain": [
       "0     3\n",
       "1     2\n",
       "2     2\n",
       "3     1\n",
       "4     2\n",
       "5     1\n",
       "6     3\n",
       "7     1\n",
       "8     3\n",
       "9     3\n",
       "10    3\n",
       "11    2\n",
       "12    1\n",
       "13    1\n",
       "14    1\n",
       "15    1\n",
       "16    2\n",
       "17    1\n",
       "18    3\n",
       "19    2\n",
       "20    1\n",
       "21    1\n",
       "22    2\n",
       "23    2\n",
       "24    1\n",
       "25    2\n",
       "26    3\n",
       "27    1\n",
       "28    1\n",
       "29    1\n",
       "dtype: int32"
      ]
     },
     "execution_count": 2,
     "metadata": {},
     "output_type": "execute_result"
    }
   ],
   "source": [
    "data"
   ]
  },
  {
   "cell_type": "code",
   "execution_count": 3,
   "id": "c8c0afad-f15f-4277-a927-0678544998a8",
   "metadata": {},
   "outputs": [
    {
     "data": {
      "text/plain": [
       "1    14\n",
       "2     9\n",
       "3     7\n",
       "Name: count, dtype: int64"
      ]
     },
     "execution_count": 3,
     "metadata": {},
     "output_type": "execute_result"
    }
   ],
   "source": [
    "top3 = data.value_counts()\n",
    "top3"
   ]
  },
  {
   "cell_type": "code",
   "execution_count": 4,
   "id": "45659f03-d8c0-49f3-94ce-9b57350a2460",
   "metadata": {},
   "outputs": [
    {
     "data": {
      "text/plain": [
       "1"
      ]
     },
     "execution_count": 4,
     "metadata": {},
     "output_type": "execute_result"
    }
   ],
   "source": [
    "top3.index[0]"
   ]
  },
  {
   "cell_type": "code",
   "execution_count": 5,
   "id": "cfaceaa1-9a03-493a-842f-7343c2e4a910",
   "metadata": {},
   "outputs": [
    {
     "data": {
      "text/plain": [
       "0     False\n",
       "1     False\n",
       "2     False\n",
       "3      True\n",
       "4     False\n",
       "5      True\n",
       "6     False\n",
       "7      True\n",
       "8     False\n",
       "9     False\n",
       "10    False\n",
       "11    False\n",
       "12     True\n",
       "13     True\n",
       "14     True\n",
       "15     True\n",
       "16    False\n",
       "17     True\n",
       "18    False\n",
       "19    False\n",
       "20     True\n",
       "21     True\n",
       "22    False\n",
       "23    False\n",
       "24     True\n",
       "25    False\n",
       "26    False\n",
       "27     True\n",
       "28     True\n",
       "29     True\n",
       "dtype: bool"
      ]
     },
     "execution_count": 5,
     "metadata": {},
     "output_type": "execute_result"
    }
   ],
   "source": [
    "data.isin([top3.index[0]])"
   ]
  },
  {
   "cell_type": "code",
   "execution_count": 9,
   "id": "793d5428-6338-410e-8aa5-c4ff087156a5",
   "metadata": {},
   "outputs": [],
   "source": [
    "other = {False: 'Other', True: 1}\n",
    "\n",
    "data = data.isin([top3.index[0]]).map(other)"
   ]
  },
  {
   "cell_type": "code",
   "execution_count": 10,
   "id": "bc342d4f-027b-4905-9a2b-74ffd0eeab2a",
   "metadata": {},
   "outputs": [
    {
     "data": {
      "text/plain": [
       "0     Other\n",
       "1     Other\n",
       "2     Other\n",
       "3         1\n",
       "4     Other\n",
       "5         1\n",
       "6     Other\n",
       "7         1\n",
       "8     Other\n",
       "9     Other\n",
       "10    Other\n",
       "11    Other\n",
       "12        1\n",
       "13        1\n",
       "14        1\n",
       "15        1\n",
       "16    Other\n",
       "17        1\n",
       "18    Other\n",
       "19    Other\n",
       "20        1\n",
       "21        1\n",
       "22    Other\n",
       "23    Other\n",
       "24        1\n",
       "25    Other\n",
       "26    Other\n",
       "27        1\n",
       "28        1\n",
       "29        1\n",
       "dtype: object"
      ]
     },
     "execution_count": 10,
     "metadata": {},
     "output_type": "execute_result"
    }
   ],
   "source": [
    "data"
   ]
  },
  {
   "cell_type": "code",
   "execution_count": null,
   "id": "3468e5ac-6878-491a-80e3-3a05f8afa496",
   "metadata": {},
   "outputs": [],
   "source": []
  }
 ],
 "metadata": {
  "kernelspec": {
   "display_name": "Python 3 (ipykernel)",
   "language": "python",
   "name": "python3"
  },
  "language_info": {
   "codemirror_mode": {
    "name": "ipython",
    "version": 3
   },
   "file_extension": ".py",
   "mimetype": "text/x-python",
   "name": "python",
   "nbconvert_exporter": "python",
   "pygments_lexer": "ipython3",
   "version": "3.11.4"
  }
 },
 "nbformat": 4,
 "nbformat_minor": 5
}
