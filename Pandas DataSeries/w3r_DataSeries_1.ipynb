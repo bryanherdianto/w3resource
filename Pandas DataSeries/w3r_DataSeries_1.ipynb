{
 "cells": [
  {
   "cell_type": "code",
   "execution_count": 1,
   "id": "962a2cb4-c0bb-482c-8bd4-bb36b5ae472e",
   "metadata": {},
   "outputs": [],
   "source": [
    "import pandas as pd"
   ]
  },
  {
   "cell_type": "code",
   "execution_count": 2,
   "id": "734db92d-db4a-4bf8-84cc-1dcf4b817b72",
   "metadata": {},
   "outputs": [],
   "source": [
    "data_list = [0, 1, 2, 3, 4, 5, 6]"
   ]
  },
  {
   "cell_type": "code",
   "execution_count": 3,
   "id": "a92574c3-d9ec-40d0-bb9f-bf5f4ccf5706",
   "metadata": {},
   "outputs": [],
   "source": [
    "ps = pd.Series(data_list)"
   ]
  },
  {
   "cell_type": "code",
   "execution_count": 4,
   "id": "46ad6492-c668-4a6f-a6d5-a9828a6815e5",
   "metadata": {},
   "outputs": [
    {
     "name": "stdout",
     "output_type": "stream",
     "text": [
      "0    0\n",
      "1    1\n",
      "2    2\n",
      "3    3\n",
      "4    4\n",
      "5    5\n",
      "6    6\n",
      "dtype: int64\n"
     ]
    }
   ],
   "source": [
    "print(ps)"
   ]
  },
  {
   "cell_type": "code",
   "execution_count": null,
   "id": "285c1e67-b2b9-4a86-9de8-6a6ce9cd4fef",
   "metadata": {},
   "outputs": [],
   "source": []
  }
 ],
 "metadata": {
  "kernelspec": {
   "display_name": "Python 3 (ipykernel)",
   "language": "python",
   "name": "python3"
  },
  "language_info": {
   "codemirror_mode": {
    "name": "ipython",
    "version": 3
   },
   "file_extension": ".py",
   "mimetype": "text/x-python",
   "name": "python",
   "nbconvert_exporter": "python",
   "pygments_lexer": "ipython3",
   "version": "3.11.4"
  }
 },
 "nbformat": 4,
 "nbformat_minor": 5
}
