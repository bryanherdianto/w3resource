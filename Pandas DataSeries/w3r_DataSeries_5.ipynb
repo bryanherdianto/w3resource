{
 "cells": [
  {
   "cell_type": "code",
   "execution_count": 1,
   "id": "062cfc39-1490-40b6-91a2-6e4043c0e425",
   "metadata": {},
   "outputs": [],
   "source": [
    "import pandas as pd"
   ]
  },
  {
   "cell_type": "code",
   "execution_count": 2,
   "id": "eb888b48-05cc-4e40-8afa-bb2b57786ee9",
   "metadata": {},
   "outputs": [],
   "source": [
    "dict = {\n",
    "    'a': 100,\n",
    "    'b': 200,\n",
    "    'c': 300,\n",
    "    'd': 400,\n",
    "    'e': 800\n",
    "}\n",
    "\n",
    "ds = pd.Series(dict)"
   ]
  },
  {
   "cell_type": "code",
   "execution_count": 3,
   "id": "054ac5d7-07b1-486d-9358-300d1cca03f5",
   "metadata": {},
   "outputs": [
    {
     "name": "stdout",
     "output_type": "stream",
     "text": [
      "a    100\n",
      "b    200\n",
      "c    300\n",
      "d    400\n",
      "e    800\n",
      "dtype: int64\n"
     ]
    }
   ],
   "source": [
    "print(ds)"
   ]
  },
  {
   "cell_type": "code",
   "execution_count": null,
   "id": "8346ad1c-3fbf-478f-9e2d-c92b4e2d5284",
   "metadata": {},
   "outputs": [],
   "source": []
  }
 ],
 "metadata": {
  "kernelspec": {
   "display_name": "Python 3 (ipykernel)",
   "language": "python",
   "name": "python3"
  },
  "language_info": {
   "codemirror_mode": {
    "name": "ipython",
    "version": 3
   },
   "file_extension": ".py",
   "mimetype": "text/x-python",
   "name": "python",
   "nbconvert_exporter": "python",
   "pygments_lexer": "ipython3",
   "version": "3.11.4"
  }
 },
 "nbformat": 4,
 "nbformat_minor": 5
}
