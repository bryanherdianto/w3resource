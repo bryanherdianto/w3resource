{
 "cells": [
  {
   "cell_type": "code",
   "execution_count": 1,
   "id": "cc581bb9-7038-4db5-bca3-7985c2b22926",
   "metadata": {},
   "outputs": [],
   "source": [
    "import pandas as pd"
   ]
  },
  {
   "cell_type": "code",
   "execution_count": 2,
   "id": "96f9628e-1357-4dde-9041-2cdbe50eedc2",
   "metadata": {},
   "outputs": [],
   "source": [
    "ds1 = pd.Series([0, 20, 'Hello', 30, 50])"
   ]
  },
  {
   "cell_type": "code",
   "execution_count": 3,
   "id": "4077995a-7e42-42aa-ae54-bea5ec99625d",
   "metadata": {},
   "outputs": [
    {
     "name": "stdout",
     "output_type": "stream",
     "text": [
      "0        0\n",
      "1       20\n",
      "2    Hello\n",
      "3       30\n",
      "4       50\n",
      "dtype: object\n"
     ]
    }
   ],
   "source": [
    "print(ds1)"
   ]
  },
  {
   "cell_type": "code",
   "execution_count": 4,
   "id": "281d00de-be37-4d94-bee0-3d2b8556a1ab",
   "metadata": {},
   "outputs": [
    {
     "data": {
      "text/plain": [
       "0     0.0\n",
       "1    20.0\n",
       "2     NaN\n",
       "3    30.0\n",
       "4    50.0\n",
       "dtype: float64"
      ]
     },
     "execution_count": 4,
     "metadata": {},
     "output_type": "execute_result"
    }
   ],
   "source": [
    "pd.to_numeric(ds1, errors='coerce')"
   ]
  },
  {
   "cell_type": "code",
   "execution_count": 5,
   "id": "ab6d3f5f-7893-4c87-8e13-0e42292562f8",
   "metadata": {},
   "outputs": [],
   "source": [
    "ds2 = pd.Series([0, 1, 2, 3, 4])"
   ]
  },
  {
   "cell_type": "code",
   "execution_count": 6,
   "id": "5603daf3-5c4f-41ea-a14c-a4648eb869f4",
   "metadata": {},
   "outputs": [
    {
     "data": {
      "text/plain": [
       "0    0.0\n",
       "1    1.0\n",
       "2    2.0\n",
       "3    3.0\n",
       "4    4.0\n",
       "dtype: float64"
      ]
     },
     "execution_count": 6,
     "metadata": {},
     "output_type": "execute_result"
    }
   ],
   "source": [
    "ds2.astype(float)"
   ]
  },
  {
   "cell_type": "code",
   "execution_count": null,
   "id": "ef82b5ed-f42d-46b7-8b2e-12e6a21ed8ed",
   "metadata": {},
   "outputs": [],
   "source": []
  }
 ],
 "metadata": {
  "kernelspec": {
   "display_name": "Python 3 (ipykernel)",
   "language": "python",
   "name": "python3"
  },
  "language_info": {
   "codemirror_mode": {
    "name": "ipython",
    "version": 3
   },
   "file_extension": ".py",
   "mimetype": "text/x-python",
   "name": "python",
   "nbconvert_exporter": "python",
   "pygments_lexer": "ipython3",
   "version": "3.11.4"
  }
 },
 "nbformat": 4,
 "nbformat_minor": 5
}
