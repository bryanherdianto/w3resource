{
 "cells": [
  {
   "cell_type": "code",
   "execution_count": 1,
   "id": "7889b77f-1b7c-4e72-abe6-b81fba1c1116",
   "metadata": {},
   "outputs": [],
   "source": [
    "import pandas as pd"
   ]
  },
  {
   "cell_type": "code",
   "execution_count": 2,
   "id": "fbdda776-9cf1-46d6-ac5a-02a58276ef4c",
   "metadata": {},
   "outputs": [],
   "source": [
    "ds1 = pd.Series([2, 4, 6, 7, 8, 9])"
   ]
  },
  {
   "cell_type": "code",
   "execution_count": 3,
   "id": "52abace0-d181-40be-b07e-f099d1970d4b",
   "metadata": {},
   "outputs": [],
   "source": [
    "ds2 = pd.Series([1, 2, 4, 6, 7, 8])"
   ]
  },
  {
   "cell_type": "code",
   "execution_count": 4,
   "id": "8114f03e-b19e-4ad3-a049-c15dcb77926e",
   "metadata": {},
   "outputs": [],
   "source": [
    "ds_add = ds1 + ds2"
   ]
  },
  {
   "cell_type": "code",
   "execution_count": 5,
   "id": "3677a8ee-042a-40e9-8bdc-8c022ffc46d1",
   "metadata": {},
   "outputs": [
    {
     "name": "stdout",
     "output_type": "stream",
     "text": [
      "0     3\n",
      "1     6\n",
      "2    10\n",
      "3    13\n",
      "4    15\n",
      "5    17\n",
      "dtype: int64\n"
     ]
    }
   ],
   "source": [
    "print(ds_add)"
   ]
  },
  {
   "cell_type": "code",
   "execution_count": 6,
   "id": "1e628399-08a7-4d7f-b35a-39a58ebf74e1",
   "metadata": {},
   "outputs": [],
   "source": [
    "ds_substract = ds1 - ds2"
   ]
  },
  {
   "cell_type": "code",
   "execution_count": 7,
   "id": "d0f712de-0a61-458b-ba6b-54a1eff55b9d",
   "metadata": {},
   "outputs": [
    {
     "name": "stdout",
     "output_type": "stream",
     "text": [
      "0    1\n",
      "1    2\n",
      "2    2\n",
      "3    1\n",
      "4    1\n",
      "5    1\n",
      "dtype: int64\n"
     ]
    }
   ],
   "source": [
    "print(ds_substract)"
   ]
  },
  {
   "cell_type": "code",
   "execution_count": 8,
   "id": "eb9f680f-e045-45df-b5f0-e742fcd58cb9",
   "metadata": {},
   "outputs": [],
   "source": [
    "ds_multiply = ds1 * ds2"
   ]
  },
  {
   "cell_type": "code",
   "execution_count": 9,
   "id": "183abd3f-5093-4c48-9aa4-3106a489ab2e",
   "metadata": {},
   "outputs": [
    {
     "name": "stdout",
     "output_type": "stream",
     "text": [
      "0     2\n",
      "1     8\n",
      "2    24\n",
      "3    42\n",
      "4    56\n",
      "5    72\n",
      "dtype: int64\n"
     ]
    }
   ],
   "source": [
    "print(ds_multiply)"
   ]
  },
  {
   "cell_type": "code",
   "execution_count": 10,
   "id": "4cc0e897-6888-466c-b10d-3b0b2f5f8d1f",
   "metadata": {},
   "outputs": [],
   "source": [
    "ds_divide = ds1 / ds2"
   ]
  },
  {
   "cell_type": "code",
   "execution_count": 11,
   "id": "b0a3c877-59f5-4f32-b53b-cece700f3484",
   "metadata": {},
   "outputs": [
    {
     "name": "stdout",
     "output_type": "stream",
     "text": [
      "0    2.000000\n",
      "1    2.000000\n",
      "2    1.500000\n",
      "3    1.166667\n",
      "4    1.142857\n",
      "5    1.125000\n",
      "dtype: float64\n"
     ]
    }
   ],
   "source": [
    "print(ds_divide)"
   ]
  },
  {
   "cell_type": "code",
   "execution_count": null,
   "id": "34f96b9a-c9e5-4036-a103-fa4130401b3a",
   "metadata": {},
   "outputs": [],
   "source": []
  }
 ],
 "metadata": {
  "kernelspec": {
   "display_name": "Python 3 (ipykernel)",
   "language": "python",
   "name": "python3"
  },
  "language_info": {
   "codemirror_mode": {
    "name": "ipython",
    "version": 3
   },
   "file_extension": ".py",
   "mimetype": "text/x-python",
   "name": "python",
   "nbconvert_exporter": "python",
   "pygments_lexer": "ipython3",
   "version": "3.11.4"
  }
 },
 "nbformat": 4,
 "nbformat_minor": 5
}
