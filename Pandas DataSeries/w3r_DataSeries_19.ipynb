{
 "cells": [
  {
   "cell_type": "code",
   "execution_count": 3,
   "id": "55928b62-6d0b-465d-8772-e879be65c36b",
   "metadata": {},
   "outputs": [],
   "source": [
    "# import pandas module\n",
    "import pandas as pd\n",
    "import numpy as np\n",
    "\n",
    "data = pd.Series(np.random.randint(low = 1, high = 20, size = 100))"
   ]
  },
  {
   "cell_type": "code",
   "execution_count": 4,
   "id": "e4bd9763-f183-4644-8213-d3eba543fa96",
   "metadata": {},
   "outputs": [
    {
     "data": {
      "text/plain": [
       "0     11\n",
       "1      2\n",
       "2      3\n",
       "3      2\n",
       "4      7\n",
       "      ..\n",
       "95    16\n",
       "96    15\n",
       "97     7\n",
       "98    18\n",
       "99     6\n",
       "Length: 100, dtype: int32"
      ]
     },
     "execution_count": 4,
     "metadata": {},
     "output_type": "execute_result"
    }
   ],
   "source": [
    "data"
   ]
  },
  {
   "cell_type": "code",
   "execution_count": 10,
   "id": "6e006391-fdfe-4473-9d8e-a9faade42364",
   "metadata": {},
   "outputs": [
    {
     "name": "stdout",
     "output_type": "stream",
     "text": [
      "18     1\n",
      "4      2\n",
      "5      2\n",
      "3      3\n",
      "14     4\n",
      "8      4\n",
      "17     4\n",
      "10     4\n",
      "13     4\n",
      "11     5\n",
      "16     6\n",
      "6      6\n",
      "9      6\n",
      "15     6\n",
      "1      6\n",
      "19     7\n",
      "7      8\n",
      "12    10\n",
      "2     12\n",
      "Name: count, dtype: int64\n"
     ]
    }
   ],
   "source": [
    "print(data.value_counts(ascending=True))"
   ]
  },
  {
   "cell_type": "code",
   "execution_count": null,
   "id": "e63f860a-d4ce-4d4d-baca-cea237ebb92f",
   "metadata": {},
   "outputs": [],
   "source": []
  }
 ],
 "metadata": {
  "kernelspec": {
   "display_name": "Python 3 (ipykernel)",
   "language": "python",
   "name": "python3"
  },
  "language_info": {
   "codemirror_mode": {
    "name": "ipython",
    "version": 3
   },
   "file_extension": ".py",
   "mimetype": "text/x-python",
   "name": "python",
   "nbconvert_exporter": "python",
   "pygments_lexer": "ipython3",
   "version": "3.11.4"
  }
 },
 "nbformat": 4,
 "nbformat_minor": 5
}
