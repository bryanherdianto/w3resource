{
 "cells": [
  {
   "cell_type": "code",
   "execution_count": 1,
   "id": "b44229b2-a084-4139-8c2b-f9388ebe0b20",
   "metadata": {},
   "outputs": [],
   "source": [
    "# import pandas module\n",
    "import pandas as pd"
   ]
  },
  {
   "cell_type": "code",
   "execution_count": 2,
   "id": "993a8b2d-1007-4aa9-9abf-b72089caa8aa",
   "metadata": {},
   "outputs": [],
   "source": [
    "# make series a and series b\n",
    "a = pd.Series([1, 3, 4, 5, 6])\n",
    "b = pd.Series([2, 3, 5, 7, 8])"
   ]
  },
  {
   "cell_type": "code",
   "execution_count": 3,
   "id": "54885a65-931e-4727-8f3e-08fad60f4ab8",
   "metadata": {},
   "outputs": [],
   "source": [
    "# find the items in series a that is not in series b\n",
    "a_distinct = a[~a.isin(b)]"
   ]
  },
  {
   "cell_type": "code",
   "execution_count": 5,
   "id": "4c4a84c1-74cd-4d20-9205-da770e50ef3f",
   "metadata": {},
   "outputs": [
    {
     "name": "stdout",
     "output_type": "stream",
     "text": [
      "0    1\n",
      "2    4\n",
      "4    6\n",
      "dtype: int64\n"
     ]
    }
   ],
   "source": [
    "# print the distinct items in series a\n",
    "print(a_distinct)"
   ]
  },
  {
   "cell_type": "code",
   "execution_count": null,
   "id": "2134b853-d246-4090-9f2d-6c6725edaa24",
   "metadata": {},
   "outputs": [],
   "source": []
  }
 ],
 "metadata": {
  "kernelspec": {
   "display_name": "Python 3 (ipykernel)",
   "language": "python",
   "name": "python3"
  },
  "language_info": {
   "codemirror_mode": {
    "name": "ipython",
    "version": 3
   },
   "file_extension": ".py",
   "mimetype": "text/x-python",
   "name": "python",
   "nbconvert_exporter": "python",
   "pygments_lexer": "ipython3",
   "version": "3.11.4"
  }
 },
 "nbformat": 4,
 "nbformat_minor": 5
}
