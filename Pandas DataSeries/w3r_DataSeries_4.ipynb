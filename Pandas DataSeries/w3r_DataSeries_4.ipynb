{
 "cells": [
  {
   "cell_type": "code",
   "execution_count": 1,
   "id": "11089e58-cbec-4298-967e-c96071e51f52",
   "metadata": {},
   "outputs": [],
   "source": [
    "import pandas as pd"
   ]
  },
  {
   "cell_type": "code",
   "execution_count": 2,
   "id": "bdfdd620-0ede-40da-b6ae-31b529b8ff28",
   "metadata": {},
   "outputs": [],
   "source": [
    "ds1 = pd.Series([0, 1, 2, 3, 4, 5])"
   ]
  },
  {
   "cell_type": "code",
   "execution_count": 3,
   "id": "416df5bb-ecfd-4885-a938-6252fb0c8f6e",
   "metadata": {},
   "outputs": [],
   "source": [
    "ds2 = pd.Series([0, 2, 4, 6, 8, 10])"
   ]
  },
  {
   "cell_type": "code",
   "execution_count": 6,
   "id": "3e5dc31d-c956-4429-a76c-51d18b2cf707",
   "metadata": {},
   "outputs": [
    {
     "name": "stdout",
     "output_type": "stream",
     "text": [
      "Is ds1 equal to ds2?\n",
      "0     True\n",
      "1    False\n",
      "2    False\n",
      "3    False\n",
      "4    False\n",
      "5    False\n",
      "dtype: bool\n",
      "Is ds1 bigger than ds2?\n",
      "0    False\n",
      "1    False\n",
      "2    False\n",
      "3    False\n",
      "4    False\n",
      "5    False\n",
      "dtype: bool\n",
      "Is ds1 smaller than ds2?\n",
      "0    False\n",
      "1     True\n",
      "2     True\n",
      "3     True\n",
      "4     True\n",
      "5     True\n",
      "dtype: bool\n"
     ]
    }
   ],
   "source": [
    "print('Is ds1 equal to ds2?')\n",
    "print(ds1 == ds2)\n",
    "print('Is ds1 bigger than ds2?')\n",
    "print(ds1 > ds2)\n",
    "print('Is ds1 smaller than ds2?')\n",
    "print(ds1 < ds2)"
   ]
  },
  {
   "cell_type": "code",
   "execution_count": null,
   "id": "750ebdfd-c9b4-4a03-8d40-7967c03eb8f0",
   "metadata": {},
   "outputs": [],
   "source": []
  }
 ],
 "metadata": {
  "kernelspec": {
   "display_name": "Python 3 (ipykernel)",
   "language": "python",
   "name": "python3"
  },
  "language_info": {
   "codemirror_mode": {
    "name": "ipython",
    "version": 3
   },
   "file_extension": ".py",
   "mimetype": "text/x-python",
   "name": "python",
   "nbconvert_exporter": "python",
   "pygments_lexer": "ipython3",
   "version": "3.11.4"
  }
 },
 "nbformat": 4,
 "nbformat_minor": 5
}
