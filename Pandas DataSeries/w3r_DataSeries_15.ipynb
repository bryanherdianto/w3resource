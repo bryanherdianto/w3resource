{
 "cells": [
  {
   "cell_type": "code",
   "execution_count": 2,
   "id": "493167f3-8fbb-43d4-b0ed-9156ce67d2be",
   "metadata": {},
   "outputs": [
    {
     "name": "stdout",
     "output_type": "stream",
     "text": [
      "Mean= 5.0\n",
      "Standard Deviation= 2.7386127875258306\n"
     ]
    }
   ],
   "source": [
    "#import pandas module\n",
    "import pandas as pd\n",
    "\n",
    "# make series\n",
    "a = pd.Series([1, 2, 3, 4, 5, 6, 7, 8, 9])\n",
    "\n",
    "# make mean and std\n",
    "print(\"Mean=\", a.mean())\n",
    "print(\"Standard Deviation=\", a.std())"
   ]
  },
  {
   "cell_type": "code",
   "execution_count": null,
   "id": "9be81269-33d4-468f-873d-b8f85acae79e",
   "metadata": {},
   "outputs": [],
   "source": []
  }
 ],
 "metadata": {
  "kernelspec": {
   "display_name": "Python 3 (ipykernel)",
   "language": "python",
   "name": "python3"
  },
  "language_info": {
   "codemirror_mode": {
    "name": "ipython",
    "version": 3
   },
   "file_extension": ".py",
   "mimetype": "text/x-python",
   "name": "python",
   "nbconvert_exporter": "python",
   "pygments_lexer": "ipython3",
   "version": "3.11.4"
  }
 },
 "nbformat": 4,
 "nbformat_minor": 5
}
