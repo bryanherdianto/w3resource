{
 "cells": [
  {
   "cell_type": "code",
   "execution_count": 2,
   "id": "11284410-3550-4810-a739-4150f5f838c1",
   "metadata": {},
   "outputs": [
    {
     "name": "stdout",
     "output_type": "stream",
     "text": [
      "0     8\n",
      "2     5\n",
      "4     0\n",
      "6     5\n",
      "10    9\n",
      "dtype: int32\n"
     ]
    }
   ],
   "source": [
    "# import pandas module\n",
    "import pandas as pd\n",
    "import numpy as np\n",
    "\n",
    "data = pd.Series(np.random.randint(0, 10, [20]))\n",
    "indexes = [0, 2, 4, 6, 10]\n",
    "\n",
    "print(data[indexes])"
   ]
  },
  {
   "cell_type": "code",
   "execution_count": null,
   "id": "0eaadf37-6da7-48f6-b67d-5cde7d7f555c",
   "metadata": {},
   "outputs": [],
   "source": []
  }
 ],
 "metadata": {
  "kernelspec": {
   "display_name": "Python 3 (ipykernel)",
   "language": "python",
   "name": "python3"
  },
  "language_info": {
   "codemirror_mode": {
    "name": "ipython",
    "version": 3
   },
   "file_extension": ".py",
   "mimetype": "text/x-python",
   "name": "python",
   "nbconvert_exporter": "python",
   "pygments_lexer": "ipython3",
   "version": "3.11.4"
  }
 },
 "nbformat": 4,
 "nbformat_minor": 5
}
