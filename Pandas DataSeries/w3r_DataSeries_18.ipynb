{
 "cells": [
  {
   "cell_type": "code",
   "execution_count": 1,
   "id": "550918cd-f87f-434d-a3ff-b562ca7120e0",
   "metadata": {},
   "outputs": [
    {
     "name": "stdout",
     "output_type": "stream",
     "text": [
      "0     24.873036\n",
      "1     18.164731\n",
      "2     18.415485\n",
      "3     16.781094\n",
      "4     22.596223\n",
      "5     13.095384\n",
      "6     25.234435\n",
      "7     17.716379\n",
      "8     20.957117\n",
      "9     19.251889\n",
      "10    24.386324\n",
      "11    13.819578\n",
      "12    19.032748\n",
      "13    18.847837\n",
      "14    23.401308\n",
      "15    16.700326\n",
      "16    19.482715\n",
      "17    17.366425\n",
      "18    20.126641\n",
      "19    21.748446\n",
      "dtype: float64\n"
     ]
    }
   ],
   "source": [
    "# import pandas and numpy module\n",
    "import pandas as pd\n",
    "import numpy as np\n",
    "\n",
    "# generate random values on a series\n",
    "np_rand = np.random.RandomState(1)\n",
    "rand_series = pd.Series(np_rand.normal(20, 3, 20))\n",
    "\n",
    "# print the series\n",
    "print(rand_series)"
   ]
  },
  {
   "cell_type": "code",
   "execution_count": 3,
   "id": "edd84327-8615-4a25-a7cf-9eb16eb7d0b6",
   "metadata": {},
   "outputs": [
    {
     "name": "stdout",
     "output_type": "stream",
     "text": [
      "Min, Percentile 25th, Percentile 50th, Percentile 75th, Max:\n",
      "[13.09538391 17.62889066 19.14231863 21.96038995 25.23443529]\n"
     ]
    }
   ],
   "source": [
    "# find the percentile 0, 25, 50, 75, 100 (using numpy)\n",
    "print(\"Min, Percentile 25th, Percentile 50th, Percentile 75th, Max:\")\n",
    "print(np.percentile(rand_series, q=[0, 25, 50, 75, 100]))"
   ]
  },
  {
   "cell_type": "code",
   "execution_count": null,
   "id": "5a9f22f0-f7cc-47e0-be65-42f814da3c1a",
   "metadata": {},
   "outputs": [],
   "source": []
  }
 ],
 "metadata": {
  "kernelspec": {
   "display_name": "Python 3 (ipykernel)",
   "language": "python",
   "name": "python3"
  },
  "language_info": {
   "codemirror_mode": {
    "name": "ipython",
    "version": 3
   },
   "file_extension": ".py",
   "mimetype": "text/x-python",
   "name": "python",
   "nbconvert_exporter": "python",
   "pygments_lexer": "ipython3",
   "version": "3.11.4"
  }
 },
 "nbformat": 4,
 "nbformat_minor": 5
}
