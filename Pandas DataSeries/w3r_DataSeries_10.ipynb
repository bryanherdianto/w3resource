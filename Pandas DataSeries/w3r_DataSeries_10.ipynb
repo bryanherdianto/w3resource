{
 "cells": [
  {
   "cell_type": "code",
   "execution_count": 1,
   "id": "bac7e097-c2f9-440f-830e-5a09985fe7b7",
   "metadata": {},
   "outputs": [],
   "source": [
    "import pandas as pd"
   ]
  },
  {
   "cell_type": "code",
   "execution_count": 2,
   "id": "459b18da-f420-40ab-9125-6cbb0721b357",
   "metadata": {},
   "outputs": [],
   "source": [
    "list1 = ['red', 'green', 'white']"
   ]
  },
  {
   "cell_type": "code",
   "execution_count": 3,
   "id": "e4b36e80-ea4e-42b2-a2c4-72e189a88546",
   "metadata": {},
   "outputs": [],
   "source": [
    "list2 = ['red', 'black']"
   ]
  },
  {
   "cell_type": "code",
   "execution_count": 4,
   "id": "d9065359-9327-44b3-8b23-ac263e2983a8",
   "metadata": {},
   "outputs": [],
   "source": [
    "list3 = ['yellow']"
   ]
  },
  {
   "cell_type": "code",
   "execution_count": 7,
   "id": "2a7db876-f241-4f68-a47e-2b90cc272613",
   "metadata": {},
   "outputs": [
    {
     "name": "stdout",
     "output_type": "stream",
     "text": [
      "0    [red, green, white]\n",
      "1           [red, black]\n",
      "2               [yellow]\n",
      "dtype: object\n"
     ]
    }
   ],
   "source": [
    "ds = pd.Series([list1, list2, list3])\n",
    "print(ds)"
   ]
  },
  {
   "cell_type": "code",
   "execution_count": 48,
   "id": "c2042a8b-8c80-4491-a053-08aa98cc8584",
   "metadata": {},
   "outputs": [
    {
     "data": {
      "text/plain": [
       "0       red\n",
       "1     green\n",
       "2     white\n",
       "3       red\n",
       "4     black\n",
       "5    yellow\n",
       "dtype: object"
      ]
     },
     "execution_count": 48,
     "metadata": {},
     "output_type": "execute_result"
    }
   ],
   "source": [
    "final = ds.apply(pd.Series).stack().reset_index(drop=True)\n",
    "final"
   ]
  },
  {
   "cell_type": "code",
   "execution_count": null,
   "id": "c99dbb32-3320-4aeb-b356-39ab6aa4cf19",
   "metadata": {},
   "outputs": [],
   "source": []
  }
 ],
 "metadata": {
  "kernelspec": {
   "display_name": "Python 3 (ipykernel)",
   "language": "python",
   "name": "python3"
  },
  "language_info": {
   "codemirror_mode": {
    "name": "ipython",
    "version": 3
   },
   "file_extension": ".py",
   "mimetype": "text/x-python",
   "name": "python",
   "nbconvert_exporter": "python",
   "pygments_lexer": "ipython3",
   "version": "3.11.4"
  }
 },
 "nbformat": 4,
 "nbformat_minor": 5
}
