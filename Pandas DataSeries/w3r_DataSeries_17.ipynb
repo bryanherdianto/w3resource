{
 "cells": [
  {
   "cell_type": "code",
   "execution_count": 1,
   "id": "91dc2d6e-0017-4974-b8e1-1a3ed736a9ed",
   "metadata": {},
   "outputs": [],
   "source": [
    "# import pandas module\n",
    "import pandas as pd"
   ]
  },
  {
   "cell_type": "code",
   "execution_count": 2,
   "id": "fa3ef337-a62f-426b-9466-d010e49c28a9",
   "metadata": {},
   "outputs": [],
   "source": [
    "# initialize series a and b\n",
    "a = pd.Series([1, 2, 3, 6, 8, 10])\n",
    "b = pd.Series([0, 2, 4, 6, 9, 11])"
   ]
  },
  {
   "cell_type": "code",
   "execution_count": 3,
   "id": "b3137396-10c7-473a-a9c1-09e29f33b551",
   "metadata": {},
   "outputs": [],
   "source": [
    "# make a new series that only contains the distinct values\n",
    "a_distinct = a[~a.isin(b)]\n",
    "b_distinct = b[~b.isin(a)]"
   ]
  },
  {
   "cell_type": "code",
   "execution_count": 8,
   "id": "80ee7208-0f05-47c4-92a3-af5c3ccda1bc",
   "metadata": {},
   "outputs": [],
   "source": [
    "# combine both series\n",
    "ab = pd.concat([a_distinct, b_distinct])"
   ]
  },
  {
   "cell_type": "code",
   "execution_count": 9,
   "id": "3be49692-470a-484c-92d3-629bb2a0721a",
   "metadata": {},
   "outputs": [
    {
     "name": "stdout",
     "output_type": "stream",
     "text": [
      "0     0\n",
      "0     1\n",
      "2     3\n",
      "2     4\n",
      "4     8\n",
      "4     9\n",
      "5    10\n",
      "5    11\n",
      "dtype: int64\n"
     ]
    }
   ],
   "source": [
    "# sort the values of the combined series\n",
    "print(ab.sort_values(ascending=True))"
   ]
  },
  {
   "cell_type": "code",
   "execution_count": null,
   "id": "b8be195c-de67-4577-83fc-e3c4edad2bb8",
   "metadata": {},
   "outputs": [],
   "source": []
  }
 ],
 "metadata": {
  "kernelspec": {
   "display_name": "Python 3 (ipykernel)",
   "language": "python",
   "name": "python3"
  },
  "language_info": {
   "codemirror_mode": {
    "name": "ipython",
    "version": 3
   },
   "file_extension": ".py",
   "mimetype": "text/x-python",
   "name": "python",
   "nbconvert_exporter": "python",
   "pygments_lexer": "ipython3",
   "version": "3.11.4"
  }
 },
 "nbformat": 4,
 "nbformat_minor": 5
}
